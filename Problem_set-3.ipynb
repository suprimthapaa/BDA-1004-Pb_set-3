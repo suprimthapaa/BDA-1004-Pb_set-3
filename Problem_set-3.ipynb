{
 "cells": [
  {
   "cell_type": "markdown",
   "id": "32a0cd31",
   "metadata": {},
   "source": [
    "# Problem Set 3\n",
    "This problem set is based on lectures 9 and 10. For a complete list of topics please \n",
    "consult page 2 of the course syllabus. Please consult the “Instructions for Problem \n",
    "Set Submissions” document under course information before submitting your \n",
    "assignment."
   ]
  },
  {
   "cell_type": "markdown",
   "id": "8a56cc14",
   "metadata": {},
   "source": [
    "# Question 1"
   ]
  },
  {
   "cell_type": "code",
   "execution_count": 3,
   "id": "623539a5",
   "metadata": {},
   "outputs": [
    {
     "name": "stdout",
     "output_type": "stream",
     "text": [
      "     user_id  age gender     occupation zip_code\n",
      "0          1   24      M     technician    85711\n",
      "1          2   53      F          other    94043\n",
      "2          3   23      M         writer    32067\n",
      "3          4   24      M     technician    43537\n",
      "4          5   33      F          other    15213\n",
      "..       ...  ...    ...            ...      ...\n",
      "938      939   26      F        student    33319\n",
      "939      940   32      M  administrator    02215\n",
      "940      941   20      M        student    97229\n",
      "941      942   48      F      librarian    78209\n",
      "942      943   22      M        student    77841\n",
      "\n",
      "[943 rows x 5 columns]\n"
     ]
    }
   ],
   "source": [
    "# Step 1. Import the necessary libraries\n",
    "# Step 2. Import the dataset from this address. \n",
    "# Step 3. Assign it to a variable called users\n",
    "import pandas as pd\n",
    "\n",
    "url = 'https://raw.githubusercontent.com/justmarkham/DAT8/master/data/u.user'\n",
    "\n",
    "users = pd.read_csv(url, delimiter='|')\n",
    "\n",
    "print(users)\n",
    "\n"
   ]
  },
  {
   "cell_type": "code",
   "execution_count": 4,
   "id": "5e5fa62f",
   "metadata": {},
   "outputs": [
    {
     "name": "stdout",
     "output_type": "stream",
     "text": [
      "occupation\n",
      "administrator    38.746835\n",
      "artist           31.392857\n",
      "doctor           43.571429\n",
      "educator         42.010526\n",
      "engineer         36.388060\n",
      "entertainment    29.222222\n",
      "executive        38.718750\n",
      "healthcare       41.562500\n",
      "homemaker        32.571429\n",
      "lawyer           36.750000\n",
      "librarian        40.000000\n",
      "marketing        37.615385\n",
      "none             26.555556\n",
      "other            34.523810\n",
      "programmer       33.121212\n",
      "retired          63.071429\n",
      "salesman         35.666667\n",
      "scientist        35.548387\n",
      "student          22.081633\n",
      "technician       33.148148\n",
      "writer           36.311111\n",
      "Name: age, dtype: float64\n"
     ]
    }
   ],
   "source": [
    "# Step 4. Discover what is the mean age per occupation\n",
    "\n",
    "mean_age_per_occupation = users.groupby('occupation')['age'].mean()\n",
    "\n",
    "print(mean_age_per_occupation)\n"
   ]
  },
  {
   "cell_type": "code",
   "execution_count": 5,
   "id": "8bbe1051",
   "metadata": {},
   "outputs": [
    {
     "name": "stdout",
     "output_type": "stream",
     "text": [
      "occupation\n",
      "doctor           1.000000\n",
      "engineer         0.970149\n",
      "technician       0.962963\n",
      "retired          0.928571\n",
      "programmer       0.909091\n",
      "executive        0.906250\n",
      "scientist        0.903226\n",
      "entertainment    0.888889\n",
      "lawyer           0.833333\n",
      "salesman         0.750000\n",
      "educator         0.726316\n",
      "student          0.693878\n",
      "other            0.657143\n",
      "marketing        0.615385\n",
      "writer           0.577778\n",
      "none             0.555556\n",
      "administrator    0.544304\n",
      "artist           0.535714\n",
      "librarian        0.431373\n",
      "healthcare       0.312500\n",
      "homemaker        0.142857\n",
      "Name: gender, dtype: float64\n"
     ]
    }
   ],
   "source": [
    "# Step 5. Discover the Male ratio per occupation and sort it from the most to the least \n",
    "\n",
    "male_ratio_per_occupation = users[users['gender']=='M'].groupby('occupation')['gender'].count() / users.groupby('occupation')['gender'].count()\n",
    "\n",
    "male_ratio_per_occupation = male_ratio_per_occupation.sort_values(ascending=False)\n",
    "\n",
    "print(male_ratio_per_occupation)"
   ]
  },
  {
   "cell_type": "code",
   "execution_count": 6,
   "id": "71851eb1",
   "metadata": {},
   "outputs": [
    {
     "name": "stdout",
     "output_type": "stream",
     "text": [
      "               min  max\n",
      "occupation             \n",
      "administrator   21   70\n",
      "artist          19   48\n",
      "doctor          28   64\n",
      "educator        23   63\n",
      "engineer        22   70\n",
      "entertainment   15   50\n",
      "executive       22   69\n",
      "healthcare      22   62\n",
      "homemaker       20   50\n",
      "lawyer          21   53\n",
      "librarian       23   69\n",
      "marketing       24   55\n",
      "none            11   55\n",
      "other           13   64\n",
      "programmer      20   63\n",
      "retired         51   73\n",
      "salesman        18   66\n",
      "scientist       23   55\n",
      "student          7   42\n",
      "technician      21   55\n",
      "writer          18   60\n"
     ]
    }
   ],
   "source": [
    "# Step 6. For each occupation, calculate the minimum and maximum ages\n",
    "\n",
    "minmax_age_per_occupation = users.groupby('occupation')['age'].agg(['min', 'max'])\n",
    "\n",
    "print(minmax_age_per_occupation)"
   ]
  },
  {
   "cell_type": "code",
   "execution_count": 7,
   "id": "6ef9e0af",
   "metadata": {},
   "outputs": [
    {
     "name": "stdout",
     "output_type": "stream",
     "text": [
      "occupation     gender\n",
      "administrator  F         40.638889\n",
      "               M         37.162791\n",
      "artist         F         30.307692\n",
      "               M         32.333333\n",
      "doctor         M         43.571429\n",
      "educator       F         39.115385\n",
      "               M         43.101449\n",
      "engineer       F         29.500000\n",
      "               M         36.600000\n",
      "entertainment  F         31.000000\n",
      "               M         29.000000\n",
      "executive      F         44.000000\n",
      "               M         38.172414\n",
      "healthcare     F         39.818182\n",
      "               M         45.400000\n",
      "homemaker      F         34.166667\n",
      "               M         23.000000\n",
      "lawyer         F         39.500000\n",
      "               M         36.200000\n",
      "librarian      F         40.000000\n",
      "               M         40.000000\n",
      "marketing      F         37.200000\n",
      "               M         37.875000\n",
      "none           F         36.500000\n",
      "               M         18.600000\n",
      "other          F         35.472222\n",
      "               M         34.028986\n",
      "programmer     F         32.166667\n",
      "               M         33.216667\n",
      "retired        F         70.000000\n",
      "               M         62.538462\n",
      "salesman       F         27.000000\n",
      "               M         38.555556\n",
      "scientist      F         28.333333\n",
      "               M         36.321429\n",
      "student        F         20.750000\n",
      "               M         22.669118\n",
      "technician     F         38.000000\n",
      "               M         32.961538\n",
      "writer         F         37.631579\n",
      "               M         35.346154\n",
      "Name: age, dtype: float64\n"
     ]
    }
   ],
   "source": [
    "# Step 7. For each combination of occupation and sex, calculate the mean age \n",
    "\n",
    "mean_age_per_occupation_and_sex = users.groupby(['occupation', 'gender'])['age'].mean()\n",
    "\n",
    "print(mean_age_per_occupation_and_sex)\n"
   ]
  },
  {
   "cell_type": "code",
   "execution_count": 13,
   "id": "44a00d6b",
   "metadata": {},
   "outputs": [
    {
     "name": "stdout",
     "output_type": "stream",
     "text": [
      "gender                 F           M\n",
      "occupation                          \n",
      "administrator  45.569620   54.430380\n",
      "artist         46.428571   53.571429\n",
      "doctor          0.000000  100.000000\n",
      "educator       27.368421   72.631579\n",
      "engineer        2.985075   97.014925\n",
      "entertainment  11.111111   88.888889\n",
      "executive       9.375000   90.625000\n",
      "healthcare     68.750000   31.250000\n",
      "homemaker      85.714286   14.285714\n",
      "lawyer         16.666667   83.333333\n",
      "librarian      56.862745   43.137255\n",
      "marketing      38.461538   61.538462\n",
      "none           44.444444   55.555556\n",
      "other          34.285714   65.714286\n",
      "programmer      9.090909   90.909091\n",
      "retired         7.142857   92.857143\n",
      "salesman       25.000000   75.000000\n",
      "scientist       9.677419   90.322581\n",
      "student        30.612245   69.387755\n",
      "technician      3.703704   96.296296\n",
      "writer         42.222222   57.777778\n"
     ]
    }
   ],
   "source": [
    "# Step 8. For each occupation present the percentage of women and men\n",
    "\n",
    "gender_count_per_occupation = users.groupby(['occupation', 'gender']).size().unstack(fill_value=0)\n",
    "gender_percentage_per_occupation = gender_count_per_occupation.apply(lambda x: x / x.sum() * 100, axis=1)\n",
    "# print(gender_count_per_occupation)\n",
    "print(gender_percentage_per_occupation)"
   ]
  },
  {
   "cell_type": "markdown",
   "id": "09bd5e03",
   "metadata": {},
   "source": [
    "# Question 2\n",
    "\n"
   ]
  },
  {
   "cell_type": "code",
   "execution_count": 15,
   "id": "354005ce",
   "metadata": {},
   "outputs": [
    {
     "name": "stdout",
     "output_type": "stream",
     "text": [
      "             Team  Goals  Shots on target  Shots off target Shooting Accuracy  \\\n",
      "0         Croatia      4               13                12             51.9%   \n",
      "1  Czech Republic      4               13                18             41.9%   \n",
      "2         Denmark      4               10                10             50.0%   \n",
      "3         England      5               11                18             50.0%   \n",
      "4          France      3               22                24             37.9%   \n",
      "\n",
      "  % Goals-to-shots  Total shots (inc. Blocked)  Hit Woodwork  Penalty goals  \\\n",
      "0            16.0%                          32             0              0   \n",
      "1            12.9%                          39             0              0   \n",
      "2            20.0%                          27             1              0   \n",
      "3            17.2%                          40             0              0   \n",
      "4             6.5%                          65             1              0   \n",
      "\n",
      "   Penalties not scored  ...  Saves made  Saves-to-shots ratio  Fouls Won  \\\n",
      "0                     0  ...          13                 81.3%         41   \n",
      "1                     0  ...           9                 60.1%         53   \n",
      "2                     0  ...          10                 66.7%         25   \n",
      "3                     0  ...          22                 88.1%         43   \n",
      "4                     0  ...           6                 54.6%         36   \n",
      "\n",
      "  Fouls Conceded  Offsides  Yellow Cards  Red Cards  Subs on  Subs off  \\\n",
      "0             62         2             9          0        9         9   \n",
      "1             73         8             7          0       11        11   \n",
      "2             38         8             4          0        7         7   \n",
      "3             45         6             5          0       11        11   \n",
      "4             51         5             6          0       11        11   \n",
      "\n",
      "   Players Used  \n",
      "0            16  \n",
      "1            19  \n",
      "2            15  \n",
      "3            16  \n",
      "4            19  \n",
      "\n",
      "[5 rows x 35 columns]\n"
     ]
    }
   ],
   "source": [
    "# Step 1. Import the necessary libraries\n",
    "# Step 2. Import the dataset from this address\n",
    "# Step 3. Assign it to a variable called euro12 \n",
    "import pandas as pd\n",
    "url1 = \"https://raw.githubusercontent.com/guipsamora/pandas_exercises/master/02_Filtering_%26_Sorting/Euro12/Euro_2012_stats_TEAM.csv\"\n",
    "euro12 = pd.read_csv(url1,delimiter=',')\n",
    "print(euro12.head())"
   ]
  },
  {
   "cell_type": "code",
   "execution_count": 18,
   "id": "f796c68a",
   "metadata": {},
   "outputs": [
    {
     "name": "stdout",
     "output_type": "stream",
     "text": [
      "0      4\n",
      "1      4\n",
      "2      4\n",
      "3      5\n",
      "4      3\n",
      "5     10\n",
      "6      5\n",
      "7      6\n",
      "8      2\n",
      "9      2\n",
      "10     6\n",
      "11     1\n",
      "12     5\n",
      "13    12\n",
      "14     5\n",
      "15     2\n",
      "Name: Goals, dtype: int64\n"
     ]
    }
   ],
   "source": [
    "# Step 4. Select only the Goal column\n",
    "\n",
    "goal_column = euro12['Goals']\n",
    "print(goal_column)"
   ]
  },
  {
   "cell_type": "code",
   "execution_count": 20,
   "id": "20723e0a",
   "metadata": {},
   "outputs": [
    {
     "name": "stdout",
     "output_type": "stream",
     "text": [
      "Number of teams that  participated in Euro2012: 16\n"
     ]
    }
   ],
   "source": [
    "# Step 5. How many team participated in the Euro2012? \n",
    "\n",
    "num_teams = len(euro12)\n",
    "print(\"Number of teams that  participated in Euro2012:\", num_teams)\n"
   ]
  },
  {
   "cell_type": "code",
   "execution_count": 21,
   "id": "7a570fdb",
   "metadata": {},
   "outputs": [
    {
     "name": "stdout",
     "output_type": "stream",
     "text": [
      "Number of columns in the dataset: 35\n"
     ]
    }
   ],
   "source": [
    "# Step 6. What is the number of columns in the dataset?\n",
    "num_columns = len(euro12.columns)\n",
    "print(\"Number of columns in the dataset:\", num_columns)\n"
   ]
  },
  {
   "cell_type": "code",
   "execution_count": 22,
   "id": "64c47463",
   "metadata": {},
   "outputs": [
    {
     "name": "stdout",
     "output_type": "stream",
     "text": [
      "                   Team  Yellow Cards  Red Cards\n",
      "0               Croatia             9          0\n",
      "1        Czech Republic             7          0\n",
      "2               Denmark             4          0\n",
      "3               England             5          0\n",
      "4                France             6          0\n",
      "5               Germany             4          0\n",
      "6                Greece             9          1\n",
      "7                 Italy            16          0\n",
      "8           Netherlands             5          0\n",
      "9                Poland             7          1\n",
      "10             Portugal            12          0\n",
      "11  Republic of Ireland             6          1\n",
      "12               Russia             6          0\n",
      "13                Spain            11          0\n",
      "14               Sweden             7          0\n",
      "15              Ukraine             5          0\n"
     ]
    }
   ],
   "source": [
    "# Step 7. View only the columns Team, Yellow Cards and Red Cards and assign them \n",
    "# to a dataframe called discipline\n",
    "\n",
    "discipline = euro12[['Team', 'Yellow Cards', 'Red Cards']]\n",
    "print(discipline)\n"
   ]
  },
  {
   "cell_type": "code",
   "execution_count": 44,
   "id": "e8d0ef7d",
   "metadata": {},
   "outputs": [
    {
     "name": "stdout",
     "output_type": "stream",
     "text": [
      "                   Team  Yellow Cards  Red Cards\n",
      "2               Denmark             4          0\n",
      "5               Germany             4          0\n",
      "3               England             5          0\n",
      "8           Netherlands             5          0\n",
      "15              Ukraine             5          0\n",
      "4                France             6          0\n",
      "12               Russia             6          0\n",
      "1        Czech Republic             7          0\n",
      "14               Sweden             7          0\n",
      "0               Croatia             9          0\n",
      "13                Spain            11          0\n",
      "10             Portugal            12          0\n",
      "7                 Italy            16          0\n",
      "11  Republic of Ireland             6          1\n",
      "9                Poland             7          1\n",
      "6                Greece             9          1\n"
     ]
    }
   ],
   "source": [
    "# Step 8. Sort the teams by Red Cards, then to Yellow Cards \n",
    "\n",
    "sorted_red_yellow = discipline.sort_values(['Red Cards','Yellow Cards'])\n",
    "print(sorted_red_yellow)"
   ]
  },
  {
   "cell_type": "code",
   "execution_count": 52,
   "id": "f38b77a4",
   "metadata": {},
   "outputs": [
    {
     "name": "stdout",
     "output_type": "stream",
     "text": [
      "7.4375\n"
     ]
    }
   ],
   "source": [
    "# Step 9. Calculate the mean Yellow Cards given per Team\n",
    "\n",
    "mean_yellow = sorted_red_yellow['Yellow Cards'].mean()\n",
    "print(mean_yellow)\n"
   ]
  },
  {
   "cell_type": "code",
   "execution_count": 55,
   "id": "28cc0f81",
   "metadata": {},
   "outputs": [
    {
     "name": "stdout",
     "output_type": "stream",
     "text": [
      "5     Germany\n",
      "13      Spain\n",
      "Name: Team, dtype: object\n"
     ]
    }
   ],
   "source": [
    "# Step 10. Filter teams that scored more than 6 goals\n",
    "more_than_6 = euro12[euro12['Goals'] > 6]['Team']\n",
    "print(more_than_6)"
   ]
  },
  {
   "cell_type": "code",
   "execution_count": 58,
   "id": "45e97f27",
   "metadata": {},
   "outputs": [
    {
     "name": "stdout",
     "output_type": "stream",
     "text": [
      "                   Team  Goals  Shots on target  Shots off target  \\\n",
      "0               Croatia      4               13                12   \n",
      "1        Czech Republic      4               13                18   \n",
      "2               Denmark      4               10                10   \n",
      "3               England      5               11                18   \n",
      "4                France      3               22                24   \n",
      "5               Germany     10               32                32   \n",
      "6                Greece      5                8                18   \n",
      "7                 Italy      6               34                45   \n",
      "8           Netherlands      2               12                36   \n",
      "9                Poland      2               15                23   \n",
      "10             Portugal      6               22                42   \n",
      "11  Republic of Ireland      1                7                12   \n",
      "12               Russia      5                9                31   \n",
      "13                Spain     12               42                33   \n",
      "14               Sweden      5               17                19   \n",
      "15              Ukraine      2                7                26   \n",
      "\n",
      "   Shooting Accuracy % Goals-to-shots  Total shots (inc. Blocked)  \n",
      "0              51.9%            16.0%                          32  \n",
      "1              41.9%            12.9%                          39  \n",
      "2              50.0%            20.0%                          27  \n",
      "3              50.0%            17.2%                          40  \n",
      "4              37.9%             6.5%                          65  \n",
      "5              47.8%            15.6%                          80  \n",
      "6              30.7%            19.2%                          32  \n",
      "7              43.0%             7.5%                         110  \n",
      "8              25.0%             4.1%                          60  \n",
      "9              39.4%             5.2%                          48  \n",
      "10             34.3%             9.3%                          82  \n",
      "11             36.8%             5.2%                          28  \n",
      "12             22.5%            12.5%                          59  \n",
      "13             55.9%            16.0%                         100  \n",
      "14             47.2%            13.8%                          39  \n",
      "15             21.2%             6.0%                          38  \n"
     ]
    }
   ],
   "source": [
    "# Step 12. Select the first 7 columns\n",
    "\n",
    "first_7 = euro12.iloc[:,:7]\n",
    "print(first_7)"
   ]
  },
  {
   "cell_type": "code",
   "execution_count": 60,
   "id": "546ad25d",
   "metadata": {},
   "outputs": [
    {
     "name": "stdout",
     "output_type": "stream",
     "text": [
      "                   Team  Goals  Shots on target  Shots off target  \\\n",
      "0               Croatia      4               13                12   \n",
      "1        Czech Republic      4               13                18   \n",
      "2               Denmark      4               10                10   \n",
      "3               England      5               11                18   \n",
      "4                France      3               22                24   \n",
      "5               Germany     10               32                32   \n",
      "6                Greece      5                8                18   \n",
      "7                 Italy      6               34                45   \n",
      "8           Netherlands      2               12                36   \n",
      "9                Poland      2               15                23   \n",
      "10             Portugal      6               22                42   \n",
      "11  Republic of Ireland      1                7                12   \n",
      "12               Russia      5                9                31   \n",
      "13                Spain     12               42                33   \n",
      "14               Sweden      5               17                19   \n",
      "15              Ukraine      2                7                26   \n",
      "\n",
      "   Shooting Accuracy % Goals-to-shots  Total shots (inc. Blocked)  \\\n",
      "0              51.9%            16.0%                          32   \n",
      "1              41.9%            12.9%                          39   \n",
      "2              50.0%            20.0%                          27   \n",
      "3              50.0%            17.2%                          40   \n",
      "4              37.9%             6.5%                          65   \n",
      "5              47.8%            15.6%                          80   \n",
      "6              30.7%            19.2%                          32   \n",
      "7              43.0%             7.5%                         110   \n",
      "8              25.0%             4.1%                          60   \n",
      "9              39.4%             5.2%                          48   \n",
      "10             34.3%             9.3%                          82   \n",
      "11             36.8%             5.2%                          28   \n",
      "12             22.5%            12.5%                          59   \n",
      "13             55.9%            16.0%                         100   \n",
      "14             47.2%            13.8%                          39   \n",
      "15             21.2%             6.0%                          38   \n",
      "\n",
      "    Hit Woodwork  Penalty goals  Penalties not scored  ...  Clean Sheets  \\\n",
      "0              0              0                     0  ...             0   \n",
      "1              0              0                     0  ...             1   \n",
      "2              1              0                     0  ...             1   \n",
      "3              0              0                     0  ...             2   \n",
      "4              1              0                     0  ...             1   \n",
      "5              2              1                     0  ...             1   \n",
      "6              1              1                     1  ...             1   \n",
      "7              2              0                     0  ...             2   \n",
      "8              2              0                     0  ...             0   \n",
      "9              0              0                     0  ...             0   \n",
      "10             6              0                     0  ...             2   \n",
      "11             0              0                     0  ...             0   \n",
      "12             2              0                     0  ...             0   \n",
      "13             0              1                     0  ...             5   \n",
      "14             3              0                     0  ...             1   \n",
      "15             0              0                     0  ...             0   \n",
      "\n",
      "    Blocks  Goals conceded Saves made  Saves-to-shots ratio  Fouls Won  \\\n",
      "0       10               3         13                 81.3%         41   \n",
      "1       10               6          9                 60.1%         53   \n",
      "2       10               5         10                 66.7%         25   \n",
      "3       29               3         22                 88.1%         43   \n",
      "4        7               5          6                 54.6%         36   \n",
      "5       11               6         10                 62.6%         63   \n",
      "6       23               7         13                 65.1%         67   \n",
      "7       18               7         20                 74.1%        101   \n",
      "8        9               5         12                 70.6%         35   \n",
      "9        8               3          6                 66.7%         48   \n",
      "10      11               4         10                 71.5%         73   \n",
      "11      23               9         17                 65.4%         43   \n",
      "12       8               3         10                 77.0%         34   \n",
      "13       8               1         15                 93.8%        102   \n",
      "14      12               5          8                 61.6%         35   \n",
      "15       4               4         13                 76.5%         48   \n",
      "\n",
      "    Fouls Conceded  Offsides  Yellow Cards  Red Cards  \n",
      "0               62         2             9          0  \n",
      "1               73         8             7          0  \n",
      "2               38         8             4          0  \n",
      "3               45         6             5          0  \n",
      "4               51         5             6          0  \n",
      "5               49        12             4          0  \n",
      "6               48        12             9          1  \n",
      "7               89        16            16          0  \n",
      "8               30         3             5          0  \n",
      "9               56         3             7          1  \n",
      "10              90        10            12          0  \n",
      "11              51        11             6          1  \n",
      "12              43         4             6          0  \n",
      "13              83        19            11          0  \n",
      "14              51         7             7          0  \n",
      "15              31         4             5          0  \n",
      "\n",
      "[16 rows x 32 columns]\n"
     ]
    }
   ],
   "source": [
    "# Step 13. Select all columns except the last 3\n",
    "\n",
    "column_except_last_3 = euro12.iloc[:,:-3]\n",
    "print(column_except_last_3)"
   ]
  },
  {
   "cell_type": "code",
   "execution_count": 61,
   "id": "495d4ad6",
   "metadata": {},
   "outputs": [
    {
     "name": "stdout",
     "output_type": "stream",
     "text": [
      "       Team Shooting Accuracy\n",
      "3   England             50.0%\n",
      "7     Italy             43.0%\n",
      "12   Russia             22.5%\n"
     ]
    }
   ],
   "source": [
    "# Step 14. Present only the Shooting Accuracy from England, Italy and Russia\n",
    "selected_teams = ['England', 'Italy', 'Russia']\n",
    "shooting_accuracy = euro12.loc[euro12['Team'].isin(selected_teams), ['Team', 'Shooting Accuracy']]\n",
    "print(shooting_accuracy)\n"
   ]
  },
  {
   "cell_type": "markdown",
   "id": "4afc022c",
   "metadata": {},
   "source": [
    "# Question 3\n",
    "Housing"
   ]
  },
  {
   "cell_type": "code",
   "execution_count": 67,
   "id": "8c25b6e4",
   "metadata": {},
   "outputs": [
    {
     "name": "stdout",
     "output_type": "stream",
     "text": [
      "0     2\n",
      "1     4\n",
      "2     3\n",
      "3     2\n",
      "4     2\n",
      "     ..\n",
      "95    4\n",
      "96    2\n",
      "97    4\n",
      "98    4\n",
      "99    2\n",
      "Length: 100, dtype: int32\n"
     ]
    }
   ],
   "source": [
    "# Step 1. Import the necessary libraries\n",
    "# Step 2. Create 3 differents Series, each of length 100, as follows:\n",
    "# • The first a random number from 1 to 4\n",
    "# • The second a random number from 1 to 3\n",
    "# • The third a random number from 10,000 to 30,000 \n",
    "import pandas as pd\n",
    "import numpy as np\n",
    "\n",
    "series1 = pd.Series(np.random.randint(1, 5, size=100))\n",
    "\n",
    "series2 = pd.Series(np.random.randint(1, 4, size=100))\n",
    "\n",
    "series3 = pd.Series(np.random.randint(10000, 30001, size=100))\n",
    "\n",
    "# print(series1)\n",
    "# print(series2)\n",
    "# print(series3)\n"
   ]
  },
  {
   "cell_type": "code",
   "execution_count": 173,
   "id": "c0439fdb",
   "metadata": {},
   "outputs": [
    {
     "name": "stdout",
     "output_type": "stream",
     "text": [
      "   Series 1  Series 2  Series 3\n",
      "0         2         3     23198\n",
      "1         4         2     29826\n"
     ]
    }
   ],
   "source": [
    "# Step 3. Create a DataFrame by joinning the Series by column\n",
    "df = pd.concat({'Series 1': series1, 'Series 2': series2, 'Series 3': series3}, axis=1)\n",
    "print(df.head(2))\n"
   ]
  },
  {
   "cell_type": "code",
   "execution_count": 174,
   "id": "e0cf53ef",
   "metadata": {},
   "outputs": [
    {
     "name": "stdout",
     "output_type": "stream",
     "text": [
      "    bedrs  bathrs  price_sqr_meter\n",
      "0       2       3            23198\n",
      "1       4       2            29826\n",
      "2       3       2            15618\n",
      "3       2       2            19010\n",
      "4       2       3            16828\n",
      "..    ...     ...              ...\n",
      "95      4       1            12968\n",
      "96      2       1            12470\n",
      "97      4       1            22024\n",
      "98      4       1            17058\n",
      "99      2       1            29456\n",
      "\n",
      "[100 rows x 3 columns]\n"
     ]
    }
   ],
   "source": [
    "df.columns = ['bedrs', 'bathrs', 'price_sqr_meter']\n",
    "print(df)"
   ]
  },
  {
   "cell_type": "code",
   "execution_count": 176,
   "id": "5773edf9",
   "metadata": {},
   "outputs": [
    {
     "name": "stdout",
     "output_type": "stream",
     "text": [
      "        0\n",
      "0       2\n",
      "1       4\n",
      "2       3\n",
      "3       2\n",
      "4       2\n",
      "..    ...\n",
      "95  12968\n",
      "96  12470\n",
      "97  22024\n",
      "98  17058\n",
      "99  29456\n",
      "\n",
      "[300 rows x 1 columns]\n"
     ]
    }
   ],
   "source": [
    "bigcolumn = pd.DataFrame(pd.concat([series1, series2, series3], axis=0))\n",
    "print(bigcolumn)"
   ]
  },
  {
   "cell_type": "code",
   "execution_count": 177,
   "id": "e526b864",
   "metadata": {},
   "outputs": [],
   "source": [
    "# Step 6. Ops it seems it is going only until index 99. Is it true? \n",
    "\n",
    "# Yes, it's true. Since the length of each series is 100, the index of the DataFrame will also go up to 99, which is the maximum index value."
   ]
  },
  {
   "cell_type": "code",
   "execution_count": 179,
   "id": "518ffe7b",
   "metadata": {},
   "outputs": [
    {
     "name": "stdout",
     "output_type": "stream",
     "text": [
      "     bedrs  bathrs  price_sqr_meter\n",
      "0      2.0     3.0          23198.0\n",
      "1      4.0     2.0          29826.0\n",
      "2      3.0     2.0          15618.0\n",
      "3      2.0     2.0          19010.0\n",
      "4      2.0     3.0          16828.0\n",
      "..     ...     ...              ...\n",
      "295    0.0     0.0              0.0\n",
      "296    0.0     0.0              0.0\n",
      "297    0.0     0.0              0.0\n",
      "298    0.0     0.0              0.0\n",
      "299    0.0     0.0              0.0\n",
      "\n",
      "[300 rows x 3 columns]\n"
     ]
    }
   ],
   "source": [
    "# Step 7. Reindex the DataFrame so it goes from 0 to 299\n",
    "df = df.reindex(range(300)).fillna(0)\n",
    "print(df)"
   ]
  },
  {
   "cell_type": "markdown",
   "id": "20b01e41",
   "metadata": {},
   "source": [
    "# Question 4\n",
    "Wind Statistics\n",
    "The data have been modified to contain some missing values, identified by NaN. \n",
    "Using pandas should make this exercise easier, in particular for the bonus question.\n",
    "You should be able to perform all of these operations without using a for loop or \n",
    "other looping construct.\n",
    "The data in 'wind.data' has the following format"
   ]
  },
  {
   "cell_type": "code",
   "execution_count": 21,
   "id": "592f6d5a",
   "metadata": {},
   "outputs": [
    {
     "name": "stdout",
     "output_type": "stream",
     "text": [
      "              RPT    VAL    ROS    KIL    SHA    BIR    DUB    CLA    MUL  \\\n",
      "Date                                                                        \n",
      "2061-01-01  15.04  14.96  13.17   9.29    NaN   9.87  13.67  10.25  10.83   \n",
      "2061-01-02  14.71    NaN  10.83   6.50  12.62   7.67  11.50  10.04   9.79   \n",
      "2061-01-03  18.50  16.88  12.33  10.13  11.17   6.17  11.25    NaN   8.50   \n",
      "2061-01-04  10.58   6.63  11.75   4.58   4.54   2.88   8.63   1.79   5.83   \n",
      "2061-01-05  13.33  13.25  11.42   6.17  10.71   8.21  11.92   6.54  10.92   \n",
      "...           ...    ...    ...    ...    ...    ...    ...    ...    ...   \n",
      "1978-12-27  17.58  16.96  17.62   8.08  13.21  11.67  14.46  15.59  14.04   \n",
      "1978-12-28  13.21   5.46  13.46   5.00   8.12   9.42  14.33  16.25  15.25   \n",
      "1978-12-29  14.00  10.29  14.42   8.71   9.71  10.54  19.17  12.46  14.50   \n",
      "1978-12-30  18.50  14.04  21.29   9.13  12.75   9.71  18.08  12.87  12.46   \n",
      "1978-12-31  20.33  17.41  27.29   9.59  12.08  10.13  19.25  11.63  11.58   \n",
      "\n",
      "              CLO    BEL    MAL  \n",
      "Date                             \n",
      "2061-01-01  12.58  18.50  15.04  \n",
      "2061-01-02   9.67  17.54  13.83  \n",
      "2061-01-03   7.67  12.75  12.71  \n",
      "2061-01-04   5.88   5.46  10.88  \n",
      "2061-01-05  10.34  12.92  11.83  \n",
      "...           ...    ...    ...  \n",
      "1978-12-27  14.00  17.21  40.08  \n",
      "1978-12-28  18.05  21.79  41.46  \n",
      "1978-12-29  16.42  18.88  29.58  \n",
      "1978-12-30  12.12  14.67  28.79  \n",
      "1978-12-31  11.38  12.08  22.08  \n",
      "\n",
      "[6574 rows x 12 columns]\n"
     ]
    }
   ],
   "source": [
    "# Step 1. Import the necessary libraries\n",
    "# Step 2. Import the dataset from the attached file wind.txt\n",
    "# Step 3. Assign it to a variable called data and replace the first 3 columns by a proper \n",
    "# datetime index\n",
    "import pandas as pd\n",
    "\n",
    "data = pd.read_csv(\"wind.txt\", delim_whitespace=True, na_values=\"0\")\n",
    "\n",
    "\n",
    "data[\"Date\"] = pd.to_datetime(data[\"Yr\"].astype(str) + \"-\" + data[\"Mo\"].astype(str) + \"-\" + data[\"Dy\"].astype(str), format=\"%y-%m-%d\")\n",
    "data.drop([\"Yr\", \"Mo\", \"Dy\"], axis=1, inplace=True)\n",
    "data.set_index(\"Date\", inplace=True)\n",
    "print(data)\n",
    "    "
   ]
  },
  {
   "cell_type": "code",
   "execution_count": 26,
   "id": "7dfe0e27",
   "metadata": {},
   "outputs": [
    {
     "name": "stdout",
     "output_type": "stream",
     "text": [
      "              RPT    VAL    ROS    KIL    SHA    BIR    DUB    CLA    MUL  \\\n",
      "Date                                                                        \n",
      "1961-01-01  15.04  14.96  13.17   9.29    NaN   9.87  13.67  10.25  10.83   \n",
      "1961-01-02  14.71    NaN  10.83   6.50  12.62   7.67  11.50  10.04   9.79   \n",
      "1961-01-03  18.50  16.88  12.33  10.13  11.17   6.17  11.25    NaN   8.50   \n",
      "1961-01-04  10.58   6.63  11.75   4.58   4.54   2.88   8.63   1.79   5.83   \n",
      "1961-01-05  13.33  13.25  11.42   6.17  10.71   8.21  11.92   6.54  10.92   \n",
      "...           ...    ...    ...    ...    ...    ...    ...    ...    ...   \n",
      "1978-12-27  17.58  16.96  17.62   8.08  13.21  11.67  14.46  15.59  14.04   \n",
      "1978-12-28  13.21   5.46  13.46   5.00   8.12   9.42  14.33  16.25  15.25   \n",
      "1978-12-29  14.00  10.29  14.42   8.71   9.71  10.54  19.17  12.46  14.50   \n",
      "1978-12-30  18.50  14.04  21.29   9.13  12.75   9.71  18.08  12.87  12.46   \n",
      "1978-12-31  20.33  17.41  27.29   9.59  12.08  10.13  19.25  11.63  11.58   \n",
      "\n",
      "              CLO    BEL    MAL  \n",
      "Date                             \n",
      "1961-01-01  12.58  18.50  15.04  \n",
      "1961-01-02   9.67  17.54  13.83  \n",
      "1961-01-03   7.67  12.75  12.71  \n",
      "1961-01-04   5.88   5.46  10.88  \n",
      "1961-01-05  10.34  12.92  11.83  \n",
      "...           ...    ...    ...  \n",
      "1978-12-27  14.00  17.21  40.08  \n",
      "1978-12-28  18.05  21.79  41.46  \n",
      "1978-12-29  16.42  18.88  29.58  \n",
      "1978-12-30  12.12  14.67  28.79  \n",
      "1978-12-31  11.38  12.08  22.08  \n",
      "\n",
      "[6574 rows x 12 columns]\n"
     ]
    }
   ],
   "source": [
    "# Step 4. Year 2061? Do we really have data from this year? Create a function to fix it \n",
    "# and apply it.\n",
    "import pandas as pd\n",
    "\n",
    "def fixing_year(x):\n",
    "    if x.year > 2000:\n",
    "        year = x.year - 100\n",
    "    else:\n",
    "        year = x.year\n",
    "    return pd.Timestamp(year=year, month=x.month, day=x.day)\n",
    "\n",
    "data.index = data.index.map(fix_year)\n",
    "print(data)"
   ]
  },
  {
   "cell_type": "code",
   "execution_count": 29,
   "id": "91d60f79",
   "metadata": {},
   "outputs": [
    {
     "name": "stdout",
     "output_type": "stream",
     "text": [
      "DatetimeIndex(['1961-01-01', '1961-01-02', '1961-01-03', '1961-01-04',\n",
      "               '1961-01-05', '1961-01-06', '1961-01-07', '1961-01-08',\n",
      "               '1961-01-09', '1961-01-10',\n",
      "               ...\n",
      "               '1978-12-22', '1978-12-23', '1978-12-24', '1978-12-25',\n",
      "               '1978-12-26', '1978-12-27', '1978-12-28', '1978-12-29',\n",
      "               '1978-12-30', '1978-12-31'],\n",
      "              dtype='datetime64[ns]', name='Date', length=6574, freq=None)\n"
     ]
    }
   ],
   "source": [
    "# Step 5. Set the right dates as the index. Pay attention at the data type, it should be \n",
    "# datetime64[ns].\n",
    "data.index = pd.to_datetime(data.index)\n",
    "print(data.index)"
   ]
  },
  {
   "cell_type": "code",
   "execution_count": 31,
   "id": "b4c4e6fb",
   "metadata": {},
   "outputs": [
    {
     "name": "stdout",
     "output_type": "stream",
     "text": [
      "RPT    6\n",
      "VAL    3\n",
      "ROS    2\n",
      "KIL    6\n",
      "SHA    2\n",
      "BIR    7\n",
      "DUB    4\n",
      "CLA    8\n",
      "MUL    4\n",
      "CLO    1\n",
      "BEL    0\n",
      "MAL    4\n",
      "dtype: int64\n"
     ]
    }
   ],
   "source": [
    "# Step 6. Compute how many values are missing for each location over the entire \n",
    "# record.They should be ignored in all calculations below\n",
    "\n",
    "missing_values_count = data.isna().sum()\n",
    "print(missing_values_count)\n"
   ]
  },
  {
   "cell_type": "code",
   "execution_count": 32,
   "id": "9c3000b2",
   "metadata": {},
   "outputs": [
    {
     "name": "stdout",
     "output_type": "stream",
     "text": [
      "Total non-missing values count:\n",
      "78841\n"
     ]
    }
   ],
   "source": [
    "# Step 7. Compute how many non-missing values there are in total.\n",
    "total_count = data.notna().sum().sum()\n",
    "print(\"Total non-missing values count:\")\n",
    "print(total_count)"
   ]
  },
  {
   "cell_type": "code",
   "execution_count": 33,
   "id": "1dc5a5f6",
   "metadata": {},
   "outputs": [
    {
     "name": "stdout",
     "output_type": "stream",
     "text": [
      "Mean windspeed over all locations and all times:  10.22957126433918\n"
     ]
    }
   ],
   "source": [
    "# Step 8. Calculate the mean windspeeds of the windspeeds over all the locations and \n",
    "# all the times.\n",
    "mean_windspeed = data.mean().mean()\n",
    "print(\"Mean windspeed over all locations and all times: \", mean_windspeed)"
   ]
  },
  {
   "cell_type": "code",
   "execution_count": 36,
   "id": "fbc4f449",
   "metadata": {},
   "outputs": [
    {
     "name": "stdout",
     "output_type": "stream",
     "text": [
      "      min    max       mean       std\n",
      "RPT  0.67  35.80  12.362987  5.618413\n",
      "VAL  0.21  33.37  10.644314  5.267356\n",
      "ROS  1.50  33.84  11.660526  5.008450\n",
      "KIL  0.08  28.46   6.307428  3.605246\n",
      "SHA  0.13  37.54  10.455834  4.936125\n",
      "BIR  0.04  26.16   7.099814  3.964033\n",
      "DUB  0.21  30.37   9.798834  4.976465\n",
      "CLA  0.04  31.08   8.502816  4.494166\n",
      "MUL  0.17  25.88   8.494883  4.165872\n",
      "CLO  0.04  28.21   8.707332  4.503954\n",
      "BEL  0.13  42.38  13.121007  5.835037\n",
      "MAL  0.67  42.54  15.599079  6.699794\n"
     ]
    }
   ],
   "source": [
    "# Step 9. Create a DataFrame called loc_stats and calculate the min, max and mean \n",
    "# windspeeds and standard deviations of the windspeeds at each location over all the \n",
    "# days\n",
    "# A different set of numbers for each location.\n",
    "\n",
    "loc_stats = data.agg(['min', 'max', 'mean', 'std']).transpose()\n",
    "print(loc_stats)"
   ]
  },
  {
   "cell_type": "code",
   "execution_count": 46,
   "id": "4a485949",
   "metadata": {},
   "outputs": [
    {
     "name": "stdout",
     "output_type": "stream",
     "text": [
      "             min    max       mean       std\n",
      "Date                                        \n",
      "1961-01-01  9.29  18.50  13.018182  2.808875\n",
      "1961-01-02  6.50  17.54  11.336364  3.188994\n",
      "1961-01-03  6.17  18.50  11.641818  3.681912\n",
      "1961-01-04  1.79  11.75   6.619167  3.198126\n",
      "1961-01-05  6.17  13.33  10.630000  2.445356\n",
      "...          ...    ...        ...       ...\n",
      "1978-12-27  8.08  40.08  16.708333  7.868076\n",
      "1978-12-28  5.00  41.46  15.150000  9.687857\n",
      "1978-12-29  8.71  29.58  14.890000  5.756836\n",
      "1978-12-30  9.13  28.79  15.367500  5.540437\n",
      "1978-12-31  9.59  27.29  15.402500  5.702483\n",
      "\n",
      "[6574 rows x 4 columns]\n"
     ]
    }
   ],
   "source": [
    "#Step 10. Create a DataFrame called day_stats and calculate the min, max and mean \n",
    "# windspeed and standard deviations of the windspeeds across all the locations at each \n",
    "# day\n",
    "days_stats = data.agg(['min', 'max', 'mean', 'std'], axis=1)\n",
    "print(days_stats)\n"
   ]
  },
  {
   "cell_type": "code",
   "execution_count": 47,
   "id": "b69cf64f",
   "metadata": {},
   "outputs": [
    {
     "name": "stdout",
     "output_type": "stream",
     "text": [
      "Average windspeed in January for each location:\n",
      "\n",
      "RPT    14.847325\n",
      "VAL    12.914560\n",
      "ROS    13.299624\n",
      "KIL     7.199498\n",
      "SHA    11.667734\n",
      "BIR     8.054839\n",
      "DUB    11.819355\n",
      "CLA     9.563556\n",
      "MUL     9.543208\n",
      "CLO    10.053566\n",
      "BEL    14.550520\n",
      "MAL    18.028763\n",
      "dtype: float64\n"
     ]
    }
   ],
   "source": [
    "# Step 11. Find the average windspeed in January for each location. \n",
    "\n",
    "january_data = data[data.index.month == 1]\n",
    "\n",
    "january_means = january_data.mean()\n",
    "\n",
    "print(\"Average windspeed in January for each location:\\n\")\n",
    "print(january_means)\n"
   ]
  },
  {
   "cell_type": "markdown",
   "id": "c3055dec",
   "metadata": {},
   "source": [
    "# Question 5\n"
   ]
  },
  {
   "cell_type": "code",
   "execution_count": 41,
   "id": "bb213db5",
   "metadata": {},
   "outputs": [],
   "source": [
    "# Step 1. Import the necessary libraries\n",
    "# Step 2. Import the dataset from this address. \n",
    "# Step 3. Assign it to a variable called chipo.\n",
    "import pandas as pd\n",
    "\n",
    "url2 ='https://raw.githubusercontent.com/justmarkham/DAT8/master/data/chipotle.tsv'\n",
    "chipo = pd.read_csv(url2,delimiter='\\t')\n"
   ]
  },
  {
   "cell_type": "code",
   "execution_count": 181,
   "id": "66287f8f",
   "metadata": {},
   "outputs": [
    {
     "name": "stdout",
     "output_type": "stream",
     "text": [
      "   order_id  quantity                              item_name  \\\n",
      "0         1         1           Chips and Fresh Tomato Salsa   \n",
      "1         1         1                                   Izze   \n",
      "2         1         1                       Nantucket Nectar   \n",
      "3         1         1  Chips and Tomatillo-Green Chili Salsa   \n",
      "4         2         2                           Chicken Bowl   \n",
      "5         3         1                           Chicken Bowl   \n",
      "6         3         1                          Side of Chips   \n",
      "7         4         1                          Steak Burrito   \n",
      "8         4         1                       Steak Soft Tacos   \n",
      "9         5         1                          Steak Burrito   \n",
      "\n",
      "                                  choice_description item_price  \n",
      "0                                                NaN     $2.39   \n",
      "1                                       [Clementine]     $3.39   \n",
      "2                                            [Apple]     $3.39   \n",
      "3                                                NaN     $2.39   \n",
      "4  [Tomatillo-Red Chili Salsa (Hot), [Black Beans...    $16.98   \n",
      "5  [Fresh Tomato Salsa (Mild), [Rice, Cheese, Sou...    $10.98   \n",
      "6                                                NaN     $1.69   \n",
      "7  [Tomatillo Red Chili Salsa, [Fajita Vegetables...    $11.75   \n",
      "8  [Tomatillo Green Chili Salsa, [Pinto Beans, Ch...     $9.25   \n",
      "9  [Fresh Tomato Salsa, [Rice, Black Beans, Pinto...     $9.25   \n"
     ]
    }
   ],
   "source": [
    "# Step 4. See the first 10 entries\n",
    "print(chipo.head(10))\n"
   ]
  },
  {
   "cell_type": "code",
   "execution_count": 183,
   "id": "e6e59498",
   "metadata": {},
   "outputs": [
    {
     "name": "stdout",
     "output_type": "stream",
     "text": [
      "The number of observation is:\n",
      "4622\n"
     ]
    }
   ],
   "source": [
    "\n",
    "# Step 5. What is the number of observations in the dataset? \n",
    "print(\"The number of observation is:\")\n",
    "print(chipo.shape[0])"
   ]
  },
  {
   "cell_type": "code",
   "execution_count": 184,
   "id": "69df6ae2",
   "metadata": {},
   "outputs": [
    {
     "name": "stdout",
     "output_type": "stream",
     "text": [
      "5\n"
     ]
    }
   ],
   "source": [
    "# Step 6. What is the number of columns in the dataset?\n",
    "\n",
    "number_of_columns = len(chipo.columns)\n",
    "print(number_of_columns)\n",
    "# can use any\n",
    "\n",
    "# print(chipo.shape[1])"
   ]
  },
  {
   "cell_type": "code",
   "execution_count": 185,
   "id": "37c2a202",
   "metadata": {},
   "outputs": [
    {
     "name": "stdout",
     "output_type": "stream",
     "text": [
      "Index(['order_id', 'quantity', 'item_name', 'choice_description',\n",
      "       'item_price'],\n",
      "      dtype='object')\n"
     ]
    }
   ],
   "source": [
    "# Step 7. Print the name of all the columns. \n",
    "print(chipo.columns)\n"
   ]
  },
  {
   "cell_type": "code",
   "execution_count": 186,
   "id": "27b83c84",
   "metadata": {},
   "outputs": [],
   "source": [
    "# Step 8. How is the dataset indexed?\n",
    "# The dataset is indexed with the default indexing starting from 0\n"
   ]
  },
  {
   "cell_type": "code",
   "execution_count": 188,
   "id": "f2fa5a14",
   "metadata": {},
   "outputs": [
    {
     "name": "stdout",
     "output_type": "stream",
     "text": [
      "The most-ordered item is: Chicken Bowl\n",
      "The number of orders for the most-ordered item is: 761\n"
     ]
    }
   ],
   "source": [
    "# Step 9. Which was the most-ordered item?\n",
    "# Step 10. For the most-ordered item, how many items were ordered\n",
    "\n",
    "most_ordered_item_qty = chipo[chipo['item_name'] == most_ordered_item]['quantity'].sum()\n",
    "\n",
    "print(\"The most-ordered item is:\", most_ordered_item)\n",
    "print(\"The number of orders for the most-ordered item is:\", most_ordered_item_qty)\n",
    "\n"
   ]
  },
  {
   "cell_type": "code",
   "execution_count": 189,
   "id": "8d1ac252",
   "metadata": {},
   "outputs": [
    {
     "name": "stdout",
     "output_type": "stream",
     "text": [
      "[Diet Coke]\n"
     ]
    }
   ],
   "source": [
    "# Step 11. What was the most ordered item in the choice_description column? \n",
    "choice_items = chipo.groupby('choice_description').sum()\n",
    "\n",
    "choice_items = choice_items.sort_values('quantity', ascending=False).index[0]\n",
    "\n",
    "# print the most ordered item\n",
    "print(choice_items)\n"
   ]
  },
  {
   "cell_type": "code",
   "execution_count": 201,
   "id": "03fc3150",
   "metadata": {},
   "outputs": [
    {
     "name": "stdout",
     "output_type": "stream",
     "text": [
      "Total items ordered: 4972\n"
     ]
    }
   ],
   "source": [
    "\n",
    "# Step 12. How many items were orderd in total?\n",
    "total_items_ordered = chipo['quantity'].sum()\n",
    "print(\"Total items ordered:\", total_items_ordered)\n",
    "\n"
   ]
  },
  {
   "cell_type": "code",
   "execution_count": 191,
   "id": "5e97cafc",
   "metadata": {},
   "outputs": [
    {
     "name": "stdout",
     "output_type": "stream",
     "text": [
      "float64\n"
     ]
    }
   ],
   "source": [
    "# Step 13.\n",
    "# • Turn the item price into a float\n",
    "# • Check the item price type\n",
    "# • Create a lambda function and change the type of item price\n",
    "# • Check the item price type\n",
    "\n",
    "chipo['item_price'] = chipo['item_price'].apply(lambda x: float(x[1:]))\n",
    "\n",
    "print(chipo['item_price'].dtype)\n"
   ]
  },
  {
   "cell_type": "code",
   "execution_count": 192,
   "id": "aa253242",
   "metadata": {},
   "outputs": [
    {
     "name": "stdout",
     "output_type": "stream",
     "text": [
      "Total revenue for the period: $ 39237.02\n"
     ]
    }
   ],
   "source": [
    "# Step 14. How much was the revenue for the period in the dataset? \n",
    "chipo['revenue'] = chipo['quantity'] * chipo['item_price']\n",
    "\n",
    "total_revenue = chipo['revenue'].sum()\n",
    "\n",
    "Step 15. How many orders were made in the period?\n",
    "print('Total revenue for the period: $', round(total_revenue, 2))"
   ]
  },
  {
   "cell_type": "code",
   "execution_count": 195,
   "id": "b7afaaa6",
   "metadata": {},
   "outputs": [
    {
     "name": "stdout",
     "output_type": "stream",
     "text": [
      "Number of orders: 1834\n"
     ]
    }
   ],
   "source": [
    "# Step 15. How many orders were made in the period?\n",
    "\n",
    "num_orders = chipo['order_id'].nunique()\n",
    "print(\"Number of orders:\", num_orders)\n"
   ]
  },
  {
   "cell_type": "code",
   "execution_count": 196,
   "id": "864d6c20",
   "metadata": {},
   "outputs": [
    {
     "name": "stdout",
     "output_type": "stream",
     "text": [
      "The average revenue per order is: $ 1.43\n"
     ]
    }
   ],
   "source": [
    "# Step 16. What is the average revenue amount per order? \n",
    "avg_revenue = revenue / num_orders\n",
    "\n",
    "print(\"The average revenue per order is: $\", round(avg_revenue, 2))\n"
   ]
  },
  {
   "cell_type": "code",
   "execution_count": 42,
   "id": "d505569f",
   "metadata": {},
   "outputs": [
    {
     "name": "stdout",
     "output_type": "stream",
     "text": [
      "50\n"
     ]
    }
   ],
   "source": [
    "# Step 17. How many different items are sold?\n",
    "num_items_sold = chipo['item_name'].nunique()\n",
    "print(num_items_sold)\n",
    "\n"
   ]
  },
  {
   "cell_type": "markdown",
   "id": "86fe53b5",
   "metadata": {},
   "source": [
    "# Question 6\n",
    "Create a line plot showing the number of marriages and divorces per capita in the\n",
    "U.S. between 1867 and 2014. Label both lines and show the legend. \n",
    "Don't forget to label your axes!"
   ]
  },
  {
   "cell_type": "code",
   "execution_count": 32,
   "id": "44aee6a5",
   "metadata": {},
   "outputs": [
    {
     "data": {
      "image/png": "[encoded data removed]",
      "text/plain": [
       "<Figure size 640x480 with 1 Axes>"
      ]
     },
     "metadata": {},
     "output_type": "display_data"
    }
   ],
   "source": [
    "import pandas as pd\n",
    "import matplotlib.pyplot as plt\n",
    "\n",
    "us_stat = pd.read_csv('us-marriages-divorces-1867-2014.csv')\n",
    "\n",
    "columns = ['Marriages_per_1000', 'Divorces_per_1000']\n",
    "\n",
    "x_data = us_stat['Year']\n",
    "\n",
    "fig, ax = plt.subplots()\n",
    "\n",
    "for column in columns:\n",
    "    ax.plot(x_data, us_stat[column], label=column)\n",
    "\n",
    "ax.set_title('Marriage and Divorce per capita in the US from 1867 to 2014')\n",
    "ax.legend()\n",
    "\n",
    "ax.set_xlabel('Year')\n",
    "ax.set_ylabel('Number per capita')\n",
    "\n",
    "plt.show()\n"
   ]
  },
  {
   "cell_type": "markdown",
   "id": "be0dce1e",
   "metadata": {},
   "source": [
    "# Question 7\n",
    "Create a vertical bar chart comparing the number of marriages and divorces per \n",
    "capita in the U.S. between 1900, 1950, and 2000.\n",
    "Don't forget to label your axes!"
   ]
  },
  {
   "cell_type": "code",
   "execution_count": 37,
   "id": "196df395",
   "metadata": {},
   "outputs": [
    {
     "data": {
      "image/png": "[encoded data removed]",
      "text/plain": [
       "<Figure size 640x480 with 1 Axes>"
      ]
     },
     "metadata": {},
     "output_type": "display_data"
    }
   ],
   "source": [
    "import pandas as pd\n",
    "import matplotlib.pyplot as plt\n",
    "\n",
    "us_stat2 = pd.read_csv('us-marriages-divorces-1867-2014.csv')\n",
    "us_stat2 = us_stat2[us_stat2['Year'].isin([1900, 1950, 2000])]\n",
    "\n",
    "# set color scheme\n",
    "colors = ['#0000FF', '#FFA500']\n",
    "\n",
    "# create a bar chart\n",
    "plt.bar(['1900', '1950', '2000'], us_stat2['Marriages_per_1000'], color=colors[0], label='Marriage per 1000')\n",
    "plt.bar(['1900', '1950', '2000'], us_stat2['Divorces_per_1000'], color=colors[1], label='Divorce per 1000')\n",
    "\n",
    "plt.xlabel('Year')\n",
    "plt.ylabel('Number per capita')\n",
    "plt.title('Marriage and Divorce per capita in the US from 1900 to  1950')\n",
    "\n",
    "plt.legend()\n",
    "\n",
    "plt.show()\n"
   ]
  },
  {
   "cell_type": "markdown",
   "id": "854fa35a",
   "metadata": {},
   "source": [
    "# Question 8\n",
    "Create a horizontal bar chart that compares the deadliest actors in Hollywood. Sort \n",
    "the actors by their kill count and label each bar with the corresponding actor's name. \n",
    "Don't forget to label your axes!\n"
   ]
  },
  {
   "cell_type": "code",
   "execution_count": 39,
   "id": "09fa0346",
   "metadata": {},
   "outputs": [
    {
     "data": {
      "image/png": "[encoded data removed]",
      "text/plain": [
       "<Figure size 600x800 with 1 Axes>"
      ]
     },
     "metadata": {},
     "output_type": "display_data"
    }
   ],
   "source": [
    "import pandas as pd\n",
    "import matplotlib.pyplot as plt\n",
    "\n",
    "data = pd.read_csv('actor_kill_counts.csv')\n",
    "\n",
    "data = data.sort_values(by='Count', ascending=False)\n",
    "\n",
    "colours = ['#C4E57D','#2AC280','#FFAE39','#DC5B3B','#52E397','#C5CBA3','#9CD5F6','#6E50D9','#9A5E59','#9BC8F5','#0BBC66',\n",
    "           '#FF3D52','#3B19CE','#25974F','#1EAD79','#375E4C','#43C711','#A4CCD9','#AFF373','#392D6A','#792D86','#9CA54B',\n",
    "           '#7F03BE','#D5EC95','#FCE2A5']\n",
    "\n",
    "fig, ax = plt.subplots(figsize=(6,8))\n",
    "ax.barh(data['Actor'], data['Count'], color=colours)\n",
    "\n",
    "ax.set_xlabel('Kill Counts')\n",
    "ax.set_ylabel('Actor')\n",
    "ax.set_title('Deadliest Actors in the Hollywood')\n",
    "\n",
    "plt.show()\n"
   ]
  },
  {
   "cell_type": "markdown",
   "id": "8b75e0c1",
   "metadata": {},
   "source": [
    "# Question 9\n",
    "Create a pie chart showing the fraction of all Roman Emperors that were \n",
    "assassinated.\n",
    "Make sure that the pie chart is an even circle, labels the categories, and shows the \n",
    "percentage breakdown of the categories."
   ]
  },
  {
   "cell_type": "code",
   "execution_count": 14,
   "id": "9c2b8493",
   "metadata": {},
   "outputs": [
    {
     "data": {
      "image/png": "[encoded data removed]",
      "text/plain": [
       "<Figure size 400x400 with 1 Axes>"
      ]
     },
     "metadata": {},
     "output_type": "display_data"
    }
   ],
   "source": [
    "import pandas as pd\n",
    "import matplotlib.pyplot as plt\n",
    "\n",
    "emperors_df4 = pd.read_csv('roman-emperor-reigns.csv')\n",
    "\n",
    "assassinated_count = len(emperors_df4[emperors_df4['Cause_of_Death'] == 'Assassinated'])\n",
    "\n",
    "total_count = len(emperors_df4)\n",
    "assassinated_percent = assassinated_count / total_count * 100\n",
    "\n",
    "labels = ['Assassinated', 'Other_death_cause']\n",
    "sizes = [assassinated_percent, 100 - assassinated_percent]\n",
    "explode = (0.1, 0)  \n",
    "colors = ['#FF0000','#FFFF00']\n",
    "\n",
    "fig, ax = plt.subplots(figsize=(4, 4))\n",
    "ax.pie(sizes, colors=colors, explode=explode, labels=labels, autopct='%1.1f%%')\n",
    "ax.axis('equal')  # Equal aspect ratio ensures that pie is drawn as a circle.\n",
    "\n",
    "plt.title('Pie Chart Showing the Fraction of Roman Emperors that were Assassinated')\n",
    "\n",
    "plt.show()\n"
   ]
  },
  {
   "cell_type": "markdown",
   "id": "f75c1fa6",
   "metadata": {},
   "source": [
    "# Question 10\n",
    "Create a scatter plot showing the relationship between the total revenue earned by \n",
    "arcades and the number of Computer Science PhDs awarded in the U.S. between \n",
    "2000 and 2009.\n",
    "Don't forget to label your axes! \n",
    "Color each dot according to its year."
   ]
  },
  {
   "cell_type": "code",
   "execution_count": 30,
   "id": "52155ac9",
   "metadata": {},
   "outputs": [
    {
     "data": {
      "image/png": "[encoded data removed]",
      "text/plain": [
       "<Figure size 640x480 with 1 Axes>"
      ]
     },
     "metadata": {},
     "output_type": "display_data"
    }
   ],
   "source": [
    "import pandas as pd\n",
    "import matplotlib.pyplot as plt\n",
    "\n",
    "revenue_df = pd.read_csv(\"arcade-revenue-vs-cs-doctorates.csv\")\n",
    "\n",
    "year = revenue_df['Year']\n",
    "revenue = revenue_df['Total Arcade Revenue (billions)']\n",
    "phds = revenue_df['Computer Science Doctorates Awarded (US)']\n",
    "\n",
    "colors = {2000: 'red', 2001: 'green', 2002: 'blue', 2003: 'orange', 2004: 'purple', 2005: 'black', 2006: 'pink', 2007: 'brown', 2008: 'gray', 2009: 'olive'}\n",
    "\n",
    "fig, ax = plt.subplots()\n",
    "for i in range(len(year)):\n",
    "    ax.scatter(revenue[i], phds[i], color=colors[year[i]], s=60, alpha=0.7)\n",
    "\n",
    "# Set the title and labels for the plot\n",
    "ax.set_title(\"Relationship between Arcade Revenue and Computer Science PhDs\")\n",
    "ax.set_xlabel(\"Total Arcade Revenue in billions\")\n",
    "ax.set_ylabel(\"Computer Science Doctorates Awarded in US\")\n",
    "\n",
    "plt.show()\n"
   ]
  }
 ],
 "metadata": {
  "kernelspec": {
   "display_name": "Python 3 (ipykernel)",
   "language": "python",
   "name": "python3"
  },
  "language_info": {
   "codemirror_mode": {
    "name": "ipython",
    "version": 3
   },
   "file_extension": ".py",
   "mimetype": "text/x-python",
   "name": "python",
   "nbconvert_exporter": "python",
   "pygments_lexer": "ipython3",
   "version": "3.9.13"
  }
 },
 "nbformat": 4,
 "nbformat_minor": 5
}
